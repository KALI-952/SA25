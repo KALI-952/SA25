{
 "cells": [
  {
   "cell_type": "code",
   "execution_count": 1,
   "id": "1929b90b",
   "metadata": {
    "_cell_guid": "b1076dfc-b9ad-4769-8c92-a6c4dae69d19",
    "_uuid": "8f2839f25d086af736a60e9eeb907d3b93b6e0e5",
    "execution": {
     "iopub.execute_input": "2025-06-13T17:32:33.507524Z",
     "iopub.status.busy": "2025-06-13T17:32:33.507122Z",
     "iopub.status.idle": "2025-06-13T17:32:38.198703Z",
     "shell.execute_reply": "2025-06-13T17:32:38.196718Z"
    },
    "papermill": {
     "duration": 4.699364,
     "end_time": "2025-06-13T17:32:38.200566",
     "exception": false,
     "start_time": "2025-06-13T17:32:33.501202",
     "status": "completed"
    },
    "tags": []
   },
   "outputs": [
    {
     "name": "stdout",
     "output_type": "stream",
     "text": [
      "/kaggle/input/summer-analytics-mid-hackathon/hacktest.csv\n",
      "/kaggle/input/summer-analytics-mid-hackathon/hacktrain.csv\n"
     ]
    }
   ],
   "source": [
    "# This Python 3 environment comes with many helpful analytics libraries installed\n",
    "# It is defined by the kaggle/python Docker image: https://github.com/kaggle/docker-python\n",
    "# For example, here's several helpful packages to load\n",
    "\n",
    "import numpy as np # linear algebra\n",
    "import pandas as pd\n",
    "import matplotlib.pyplot as plt # data processing, CSV file I/O (e.g. pd.read_csv)\n",
    "import seaborn as sns\n",
    "# Input data files are available in the read-only \"../input/\" directory\n",
    "# For example, running this (by clicking run or pressing Shift+Enter) will list all files under the input directory\n",
    "\n",
    "import os\n",
    "for dirname, _, filenames in os.walk('/kaggle/input'):\n",
    "    for filename in filenames:\n",
    "        print(os.path.join(dirname, filename))\n",
    "\n",
    "# You can write up to 20GB to the current directory (/kaggle/working/) that gets preserved as output when you create a version using \"Save & Run All\" \n",
    "# You can also write temporary files to /kaggle/temp/, but they won't be saved outside of the current session"
   ]
  },
  {
   "cell_type": "code",
   "execution_count": 2,
   "id": "44e21c84",
   "metadata": {
    "execution": {
     "iopub.execute_input": "2025-06-13T17:32:38.210633Z",
     "iopub.status.busy": "2025-06-13T17:32:38.209429Z",
     "iopub.status.idle": "2025-06-13T17:32:38.339069Z",
     "shell.execute_reply": "2025-06-13T17:32:38.337766Z"
    },
    "papermill": {
     "duration": 0.136529,
     "end_time": "2025-06-13T17:32:38.341247",
     "exception": false,
     "start_time": "2025-06-13T17:32:38.204718",
     "status": "completed"
    },
    "tags": []
   },
   "outputs": [
    {
     "name": "stderr",
     "output_type": "stream",
     "text": [
      "/usr/local/lib/python3.11/dist-packages/pandas/io/formats/format.py:1458: RuntimeWarning: invalid value encountered in greater\n",
      "  has_large_values = (abs_vals > 1e6).any()\n",
      "/usr/local/lib/python3.11/dist-packages/pandas/io/formats/format.py:1459: RuntimeWarning: invalid value encountered in less\n",
      "  has_small_values = ((abs_vals < 10 ** (-self.digits)) & (abs_vals > 0)).any()\n",
      "/usr/local/lib/python3.11/dist-packages/pandas/io/formats/format.py:1459: RuntimeWarning: invalid value encountered in greater\n",
      "  has_small_values = ((abs_vals < 10 ** (-self.digits)) & (abs_vals > 0)).any()\n",
      "/usr/local/lib/python3.11/dist-packages/pandas/io/formats/format.py:1458: RuntimeWarning: invalid value encountered in greater\n",
      "  has_large_values = (abs_vals > 1e6).any()\n",
      "/usr/local/lib/python3.11/dist-packages/pandas/io/formats/format.py:1459: RuntimeWarning: invalid value encountered in less\n",
      "  has_small_values = ((abs_vals < 10 ** (-self.digits)) & (abs_vals > 0)).any()\n",
      "/usr/local/lib/python3.11/dist-packages/pandas/io/formats/format.py:1459: RuntimeWarning: invalid value encountered in greater\n",
      "  has_small_values = ((abs_vals < 10 ** (-self.digits)) & (abs_vals > 0)).any()\n"
     ]
    },
    {
     "data": {
      "text/html": [
       "<div>\n",
       "<style scoped>\n",
       "    .dataframe tbody tr th:only-of-type {\n",
       "        vertical-align: middle;\n",
       "    }\n",
       "\n",
       "    .dataframe tbody tr th {\n",
       "        vertical-align: top;\n",
       "    }\n",
       "\n",
       "    .dataframe thead th {\n",
       "        text-align: right;\n",
       "    }\n",
       "</style>\n",
       "<table border=\"1\" class=\"dataframe\">\n",
       "  <thead>\n",
       "    <tr style=\"text-align: right;\">\n",
       "      <th></th>\n",
       "      <th>Unnamed: 0</th>\n",
       "      <th>ID</th>\n",
       "      <th>class</th>\n",
       "      <th>20150720_N</th>\n",
       "      <th>20150602_N</th>\n",
       "      <th>20150517_N</th>\n",
       "      <th>20150501_N</th>\n",
       "      <th>20150415_N</th>\n",
       "      <th>20150330_N</th>\n",
       "      <th>20150314_N</th>\n",
       "      <th>...</th>\n",
       "      <th>20140610_N</th>\n",
       "      <th>20140525_N</th>\n",
       "      <th>20140509_N</th>\n",
       "      <th>20140423_N</th>\n",
       "      <th>20140407_N</th>\n",
       "      <th>20140322_N</th>\n",
       "      <th>20140218_N</th>\n",
       "      <th>20140202_N</th>\n",
       "      <th>20140117_N</th>\n",
       "      <th>20140101_N</th>\n",
       "    </tr>\n",
       "  </thead>\n",
       "  <tbody>\n",
       "    <tr>\n",
       "      <th>0</th>\n",
       "      <td>0</td>\n",
       "      <td>1</td>\n",
       "      <td>water</td>\n",
       "      <td>637.5950</td>\n",
       "      <td>658.668</td>\n",
       "      <td>-1882.030</td>\n",
       "      <td>-1924.36</td>\n",
       "      <td>997.904</td>\n",
       "      <td>-1739.990</td>\n",
       "      <td>630.087</td>\n",
       "      <td>...</td>\n",
       "      <td>NaN</td>\n",
       "      <td>-1043.160</td>\n",
       "      <td>-1942.490</td>\n",
       "      <td>267.138</td>\n",
       "      <td>NaN</td>\n",
       "      <td>NaN</td>\n",
       "      <td>211.328</td>\n",
       "      <td>-2203.020</td>\n",
       "      <td>-1180.19</td>\n",
       "      <td>433.906</td>\n",
       "    </tr>\n",
       "    <tr>\n",
       "      <th>1</th>\n",
       "      <td>1</td>\n",
       "      <td>2</td>\n",
       "      <td>water</td>\n",
       "      <td>634.2400</td>\n",
       "      <td>593.705</td>\n",
       "      <td>-1625.790</td>\n",
       "      <td>-1672.32</td>\n",
       "      <td>914.198</td>\n",
       "      <td>-692.386</td>\n",
       "      <td>707.626</td>\n",
       "      <td>...</td>\n",
       "      <td>NaN</td>\n",
       "      <td>-933.934</td>\n",
       "      <td>-625.385</td>\n",
       "      <td>120.059</td>\n",
       "      <td>364.858</td>\n",
       "      <td>476.972</td>\n",
       "      <td>220.878</td>\n",
       "      <td>-2250.000</td>\n",
       "      <td>-1360.56</td>\n",
       "      <td>524.075</td>\n",
       "    </tr>\n",
       "    <tr>\n",
       "      <th>2</th>\n",
       "      <td>3</td>\n",
       "      <td>4</td>\n",
       "      <td>water</td>\n",
       "      <td>58.0174</td>\n",
       "      <td>-1599.160</td>\n",
       "      <td>NaN</td>\n",
       "      <td>-1052.63</td>\n",
       "      <td>NaN</td>\n",
       "      <td>-1564.630</td>\n",
       "      <td>NaN</td>\n",
       "      <td>...</td>\n",
       "      <td>-1025.88</td>\n",
       "      <td>368.622</td>\n",
       "      <td>NaN</td>\n",
       "      <td>-1227.800</td>\n",
       "      <td>304.621</td>\n",
       "      <td>NaN</td>\n",
       "      <td>369.214</td>\n",
       "      <td>-2202.120</td>\n",
       "      <td>NaN</td>\n",
       "      <td>-1343.550</td>\n",
       "    </tr>\n",
       "    <tr>\n",
       "      <th>3</th>\n",
       "      <td>4</td>\n",
       "      <td>5</td>\n",
       "      <td>water</td>\n",
       "      <td>72.5180</td>\n",
       "      <td>NaN</td>\n",
       "      <td>380.436</td>\n",
       "      <td>-1256.93</td>\n",
       "      <td>515.805</td>\n",
       "      <td>-1413.180</td>\n",
       "      <td>-802.942</td>\n",
       "      <td>...</td>\n",
       "      <td>-1813.95</td>\n",
       "      <td>155.624</td>\n",
       "      <td>NaN</td>\n",
       "      <td>-924.073</td>\n",
       "      <td>432.150</td>\n",
       "      <td>282.833</td>\n",
       "      <td>298.320</td>\n",
       "      <td>-2197.360</td>\n",
       "      <td>NaN</td>\n",
       "      <td>-826.727</td>\n",
       "    </tr>\n",
       "    <tr>\n",
       "      <th>4</th>\n",
       "      <td>7</td>\n",
       "      <td>8</td>\n",
       "      <td>water</td>\n",
       "      <td>1136.4400</td>\n",
       "      <td>NaN</td>\n",
       "      <td>NaN</td>\n",
       "      <td>1647.83</td>\n",
       "      <td>1935.800</td>\n",
       "      <td>NaN</td>\n",
       "      <td>2158.980</td>\n",
       "      <td>...</td>\n",
       "      <td>1535.00</td>\n",
       "      <td>1959.430</td>\n",
       "      <td>-279.317</td>\n",
       "      <td>-384.915</td>\n",
       "      <td>-113.406</td>\n",
       "      <td>1020.720</td>\n",
       "      <td>1660.650</td>\n",
       "      <td>-116.801</td>\n",
       "      <td>-568.05</td>\n",
       "      <td>-1357.140</td>\n",
       "    </tr>\n",
       "  </tbody>\n",
       "</table>\n",
       "<p>5 rows × 30 columns</p>\n",
       "</div>"
      ],
      "text/plain": [
       "   Unnamed: 0  ID  class  20150720_N  20150602_N  20150517_N  20150501_N  \\\n",
       "0           0   1  water    637.5950     658.668   -1882.030    -1924.36   \n",
       "1           1   2  water    634.2400     593.705   -1625.790    -1672.32   \n",
       "2           3   4  water     58.0174   -1599.160         NaN    -1052.63   \n",
       "3           4   5  water     72.5180         NaN     380.436    -1256.93   \n",
       "4           7   8  water   1136.4400         NaN         NaN     1647.83   \n",
       "\n",
       "   20150415_N  20150330_N  20150314_N  ...  20140610_N  20140525_N  \\\n",
       "0     997.904   -1739.990     630.087  ...         NaN   -1043.160   \n",
       "1     914.198    -692.386     707.626  ...         NaN    -933.934   \n",
       "2         NaN   -1564.630         NaN  ...    -1025.88     368.622   \n",
       "3     515.805   -1413.180    -802.942  ...    -1813.95     155.624   \n",
       "4    1935.800         NaN    2158.980  ...     1535.00    1959.430   \n",
       "\n",
       "   20140509_N  20140423_N  20140407_N  20140322_N  20140218_N  20140202_N  \\\n",
       "0   -1942.490     267.138         NaN         NaN     211.328   -2203.020   \n",
       "1    -625.385     120.059     364.858     476.972     220.878   -2250.000   \n",
       "2         NaN   -1227.800     304.621         NaN     369.214   -2202.120   \n",
       "3         NaN    -924.073     432.150     282.833     298.320   -2197.360   \n",
       "4    -279.317    -384.915    -113.406    1020.720    1660.650    -116.801   \n",
       "\n",
       "   20140117_N  20140101_N  \n",
       "0    -1180.19     433.906  \n",
       "1    -1360.56     524.075  \n",
       "2         NaN   -1343.550  \n",
       "3         NaN    -826.727  \n",
       "4     -568.05   -1357.140  \n",
       "\n",
       "[5 rows x 30 columns]"
      ]
     },
     "execution_count": 2,
     "metadata": {},
     "output_type": "execute_result"
    }
   ],
   "source": [
    "df = pd.read_csv(\"/kaggle/input/summer-analytics-mid-hackathon/hacktrain.csv\")\n",
    "df.head()"
   ]
  },
  {
   "cell_type": "code",
   "execution_count": 3,
   "id": "10db3078",
   "metadata": {
    "execution": {
     "iopub.execute_input": "2025-06-13T17:32:38.353283Z",
     "iopub.status.busy": "2025-06-13T17:32:38.352948Z",
     "iopub.status.idle": "2025-06-13T17:32:38.360845Z",
     "shell.execute_reply": "2025-06-13T17:32:38.359546Z"
    },
    "papermill": {
     "duration": 0.017151,
     "end_time": "2025-06-13T17:32:38.362746",
     "exception": false,
     "start_time": "2025-06-13T17:32:38.345595",
     "status": "completed"
    },
    "tags": []
   },
   "outputs": [
    {
     "data": {
      "text/plain": [
       "(8000, 30)"
      ]
     },
     "execution_count": 3,
     "metadata": {},
     "output_type": "execute_result"
    }
   ],
   "source": [
    "df.shape"
   ]
  },
  {
   "cell_type": "code",
   "execution_count": 4,
   "id": "1c8dea5b",
   "metadata": {
    "execution": {
     "iopub.execute_input": "2025-06-13T17:32:38.372653Z",
     "iopub.status.busy": "2025-06-13T17:32:38.372304Z",
     "iopub.status.idle": "2025-06-13T17:32:38.380866Z",
     "shell.execute_reply": "2025-06-13T17:32:38.379907Z"
    },
    "papermill": {
     "duration": 0.015938,
     "end_time": "2025-06-13T17:32:38.383010",
     "exception": false,
     "start_time": "2025-06-13T17:32:38.367072",
     "status": "completed"
    },
    "tags": []
   },
   "outputs": [
    {
     "data": {
      "text/plain": [
       "Index(['Unnamed: 0', 'ID', 'class', '20150720_N', '20150602_N', '20150517_N',\n",
       "       '20150501_N', '20150415_N', '20150330_N', '20150314_N', '20150226_N',\n",
       "       '20150210_N', '20150125_N', '20150109_N', '20141117_N', '20141101_N',\n",
       "       '20141016_N', '20140930_N', '20140813_N', '20140626_N', '20140610_N',\n",
       "       '20140525_N', '20140509_N', '20140423_N', '20140407_N', '20140322_N',\n",
       "       '20140218_N', '20140202_N', '20140117_N', '20140101_N'],\n",
       "      dtype='object')"
      ]
     },
     "execution_count": 4,
     "metadata": {},
     "output_type": "execute_result"
    }
   ],
   "source": [
    "df.columns"
   ]
  },
  {
   "cell_type": "code",
   "execution_count": 5,
   "id": "3582da19",
   "metadata": {
    "execution": {
     "iopub.execute_input": "2025-06-13T17:32:38.393130Z",
     "iopub.status.busy": "2025-06-13T17:32:38.392814Z",
     "iopub.status.idle": "2025-06-13T17:32:38.408022Z",
     "shell.execute_reply": "2025-06-13T17:32:38.406913Z"
    },
    "papermill": {
     "duration": 0.022131,
     "end_time": "2025-06-13T17:32:38.409750",
     "exception": false,
     "start_time": "2025-06-13T17:32:38.387619",
     "status": "completed"
    },
    "tags": []
   },
   "outputs": [
    {
     "data": {
      "text/plain": [
       "class\n",
       "forest        6159\n",
       "farm           841\n",
       "impervious     669\n",
       "grass          196\n",
       "water          105\n",
       "orchard         30\n",
       "Name: count, dtype: int64"
      ]
     },
     "execution_count": 5,
     "metadata": {},
     "output_type": "execute_result"
    }
   ],
   "source": [
    "df['class'].value_counts()"
   ]
  },
  {
   "cell_type": "code",
   "execution_count": 6,
   "id": "32894f2c",
   "metadata": {
    "execution": {
     "iopub.execute_input": "2025-06-13T17:32:38.419632Z",
     "iopub.status.busy": "2025-06-13T17:32:38.419310Z",
     "iopub.status.idle": "2025-06-13T17:32:39.278764Z",
     "shell.execute_reply": "2025-06-13T17:32:39.277863Z"
    },
    "papermill": {
     "duration": 0.866606,
     "end_time": "2025-06-13T17:32:39.280791",
     "exception": false,
     "start_time": "2025-06-13T17:32:38.414185",
     "status": "completed"
    },
    "tags": []
   },
   "outputs": [
    {
     "data": {
      "image/png": "[encoded data removed]",
      "text/plain": [
       "<Figure size 640x480 with 2 Axes>"
      ]
     },
     "metadata": {},
     "output_type": "display_data"
    }
   ],
   "source": [
    "sns.heatmap(df.isnull())\n",
    "plt.show()"
   ]
  },
  {
   "cell_type": "code",
   "execution_count": 7,
   "id": "b4b6197c",
   "metadata": {
    "execution": {
     "iopub.execute_input": "2025-06-13T17:32:39.295103Z",
     "iopub.status.busy": "2025-06-13T17:32:39.294334Z",
     "iopub.status.idle": "2025-06-13T17:32:39.304464Z",
     "shell.execute_reply": "2025-06-13T17:32:39.303266Z"
    },
    "papermill": {
     "duration": 0.020079,
     "end_time": "2025-06-13T17:32:39.306297",
     "exception": false,
     "start_time": "2025-06-13T17:32:39.286218",
     "status": "completed"
    },
    "tags": []
   },
   "outputs": [
    {
     "data": {
      "text/plain": [
       "Unnamed: 0       0\n",
       "ID               0\n",
       "class            0\n",
       "20150720_N     560\n",
       "20150602_N    1200\n",
       "20150517_N     800\n",
       "20150501_N     960\n",
       "20150415_N     480\n",
       "20150330_N    1120\n",
       "20150314_N     720\n",
       "20150226_N    1360\n",
       "20150210_N     640\n",
       "20150125_N    1040\n",
       "20150109_N     880\n",
       "20141117_N    1280\n",
       "20141101_N     400\n",
       "20141016_N    1440\n",
       "20140930_N     800\n",
       "20140813_N     560\n",
       "20140626_N    1600\n",
       "20140610_N     480\n",
       "20140525_N     720\n",
       "20140509_N     880\n",
       "20140423_N    1760\n",
       "20140407_N     640\n",
       "20140322_N    1120\n",
       "20140218_N    1440\n",
       "20140202_N     560\n",
       "20140117_N    1200\n",
       "20140101_N     400\n",
       "dtype: int64"
      ]
     },
     "execution_count": 7,
     "metadata": {},
     "output_type": "execute_result"
    }
   ],
   "source": [
    "df.isnull().sum()"
   ]
  },
  {
   "cell_type": "code",
   "execution_count": 8,
   "id": "717f506e",
   "metadata": {
    "execution": {
     "iopub.execute_input": "2025-06-13T17:32:39.318614Z",
     "iopub.status.busy": "2025-06-13T17:32:39.318259Z",
     "iopub.status.idle": "2025-06-13T17:32:40.108842Z",
     "shell.execute_reply": "2025-06-13T17:32:40.107389Z"
    },
    "papermill": {
     "duration": 0.79887,
     "end_time": "2025-06-13T17:32:40.110716",
     "exception": false,
     "start_time": "2025-06-13T17:32:39.311846",
     "status": "completed"
    },
    "tags": []
   },
   "outputs": [
    {
     "name": "stderr",
     "output_type": "stream",
     "text": [
      "/tmp/ipykernel_13/651186502.py:16: FutureWarning: Support for axis=1 in DataFrame.rolling is deprecated and will be removed in a future version. Use obj.T.rolling(...) instead\n",
      "  df[ndvi_cols] = df[ndvi_cols].rolling(window=3, axis=1, min_periods=1).mean()\n"
     ]
    }
   ],
   "source": [
    "# Step 1: Drop 'Unnamed: 0' (index column)\n",
    "df.drop(columns=[\"Unnamed: 0\"], inplace=True)\n",
    "\n",
    "# Step 2: Identify NDVI columns and sort them by date\n",
    "ndvi_cols = sorted([col for col in df.columns if col.endswith(\"_N\")])\n",
    "non_ndvi_cols = ['ID', 'class']\n",
    "df = df[non_ndvi_cols + ndvi_cols]\n",
    "\n",
    "# Step 3: Interpolate missing NDVI values across each row\n",
    "df[ndvi_cols] = df[ndvi_cols].interpolate(axis=1, limit_direction='both')\n",
    "\n",
    "# Step 4: Fill any remaining missing values with column-wise mean (fallback)\n",
    "df[ndvi_cols] = df[ndvi_cols].fillna(df[ndvi_cols].mode())\n",
    "\n",
    "# Step 5: Denoising with rolling mean (window = 3)\n",
    "df[ndvi_cols] = df[ndvi_cols].rolling(window=3, axis=1, min_periods=1).mean()\n",
    "\n",
    "# Step 6: Feature engineering – NDVI statistics per sample\n",
    "df[\"NDVI_mean\"] = df[ndvi_cols].mean(axis=1)\n",
    "df[\"NDVI_std\"] = df[ndvi_cols].std(axis=1)\n",
    "df[\"NDVI_min\"] = df[ndvi_cols].min(axis=1)\n",
    "df[\"NDVI_max\"] = df[ndvi_cols].max(axis=1)"
   ]
  },
  {
   "cell_type": "code",
   "execution_count": 9,
   "id": "6c58c5d3",
   "metadata": {
    "execution": {
     "iopub.execute_input": "2025-06-13T17:32:40.122345Z",
     "iopub.status.busy": "2025-06-13T17:32:40.122061Z",
     "iopub.status.idle": "2025-06-13T17:32:42.341347Z",
     "shell.execute_reply": "2025-06-13T17:32:42.340292Z"
    },
    "papermill": {
     "duration": 2.22757,
     "end_time": "2025-06-13T17:32:42.343624",
     "exception": false,
     "start_time": "2025-06-13T17:32:40.116054",
     "status": "completed"
    },
    "tags": []
   },
   "outputs": [],
   "source": [
    "from sklearn.linear_model import LogisticRegression\n",
    "from sklearn.model_selection import train_test_split\n",
    "from sklearn.preprocessing import LabelEncoder\n",
    "from sklearn.metrics import classification_report\n",
    "from sklearn.preprocessing import StandardScaler\n",
    "\n",
    "df.drop(columns=['ID'], inplace=True)\n",
    "label_encoder = LabelEncoder()\n",
    "df['class'] = label_encoder.fit_transform(df['class'])\n",
    "X = df.drop(columns=['class'])\n",
    "y = df['class']\n",
    "\n",
    "X_train, X_test, y_train, y_test = train_test_split(X, y, test_size=0.001, random_state=2, stratify=y)\n",
    "scaler = StandardScaler()\n",
    "X_train_scaled = scaler.fit_transform(X_train)\n",
    "X_test_scaled = scaler.transform(X_test)\n",
    "\n",
    "# Logistic Regression model\n",
    "model = LogisticRegression(max_iter=1000)\n",
    "model.fit(X_train_scaled, y_train)\n",
    "\n",
    "# Predict\n",
    "y_pred = model.predict(X_test_scaled)\n",
    "\n",
    "\n",
    "#model = LogisticRegression(max_iter=1000)\n",
    "#model.fit(X_train_scaled, y_train)\n",
    "#y_pred = model.predict(X_test)\n"
   ]
  },
  {
   "cell_type": "code",
   "execution_count": 10,
   "id": "63ae655d",
   "metadata": {
    "execution": {
     "iopub.execute_input": "2025-06-13T17:32:42.366076Z",
     "iopub.status.busy": "2025-06-13T17:32:42.365716Z",
     "iopub.status.idle": "2025-06-13T17:32:42.374829Z",
     "shell.execute_reply": "2025-06-13T17:32:42.374029Z"
    },
    "papermill": {
     "duration": 0.024376,
     "end_time": "2025-06-13T17:32:42.377205",
     "exception": false,
     "start_time": "2025-06-13T17:32:42.352829",
     "status": "completed"
    },
    "tags": []
   },
   "outputs": [
    {
     "data": {
      "text/plain": [
       "0.875"
      ]
     },
     "execution_count": 10,
     "metadata": {},
     "output_type": "execute_result"
    }
   ],
   "source": [
    "model.score(X_test_scaled,y_test)"
   ]
  },
  {
   "cell_type": "code",
   "execution_count": 11,
   "id": "3e451004",
   "metadata": {
    "execution": {
     "iopub.execute_input": "2025-06-13T17:32:42.395673Z",
     "iopub.status.busy": "2025-06-13T17:32:42.395301Z",
     "iopub.status.idle": "2025-06-13T17:32:42.416154Z",
     "shell.execute_reply": "2025-06-13T17:32:42.415366Z"
    },
    "papermill": {
     "duration": 0.033665,
     "end_time": "2025-06-13T17:32:42.419349",
     "exception": false,
     "start_time": "2025-06-13T17:32:42.385684",
     "status": "completed"
    },
    "tags": []
   },
   "outputs": [
    {
     "name": "stdout",
     "output_type": "stream",
     "text": [
      "              precision    recall  f1-score   support\n",
      "\n",
      "        farm       0.00      0.00      0.00         1\n",
      "      forest       0.86      1.00      0.92         6\n",
      "       grass       0.00      0.00      0.00         0\n",
      "  impervious       1.00      1.00      1.00         1\n",
      "     orchard       0.00      0.00      0.00         0\n",
      "       water       0.00      0.00      0.00         0\n",
      "\n",
      "   micro avg       0.88      0.88      0.88         8\n",
      "   macro avg       0.31      0.33      0.32         8\n",
      "weighted avg       0.77      0.88      0.82         8\n",
      "\n"
     ]
    },
    {
     "name": "stderr",
     "output_type": "stream",
     "text": [
      "/usr/local/lib/python3.11/dist-packages/sklearn/metrics/_classification.py:1344: UndefinedMetricWarning: Precision and F-score are ill-defined and being set to 0.0 in labels with no predicted samples. Use `zero_division` parameter to control this behavior.\n",
      "  _warn_prf(average, modifier, msg_start, len(result))\n",
      "/usr/local/lib/python3.11/dist-packages/sklearn/metrics/_classification.py:1344: UndefinedMetricWarning: Recall and F-score are ill-defined and being set to 0.0 in labels with no true samples. Use `zero_division` parameter to control this behavior.\n",
      "  _warn_prf(average, modifier, msg_start, len(result))\n",
      "/usr/local/lib/python3.11/dist-packages/sklearn/metrics/_classification.py:1344: UndefinedMetricWarning: Precision and F-score are ill-defined and being set to 0.0 in labels with no predicted samples. Use `zero_division` parameter to control this behavior.\n",
      "  _warn_prf(average, modifier, msg_start, len(result))\n",
      "/usr/local/lib/python3.11/dist-packages/sklearn/metrics/_classification.py:1344: UndefinedMetricWarning: Recall and F-score are ill-defined and being set to 0.0 in labels with no true samples. Use `zero_division` parameter to control this behavior.\n",
      "  _warn_prf(average, modifier, msg_start, len(result))\n",
      "/usr/local/lib/python3.11/dist-packages/sklearn/metrics/_classification.py:1344: UndefinedMetricWarning: Precision and F-score are ill-defined and being set to 0.0 in labels with no predicted samples. Use `zero_division` parameter to control this behavior.\n",
      "  _warn_prf(average, modifier, msg_start, len(result))\n",
      "/usr/local/lib/python3.11/dist-packages/sklearn/metrics/_classification.py:1344: UndefinedMetricWarning: Recall and F-score are ill-defined and being set to 0.0 in labels with no true samples. Use `zero_division` parameter to control this behavior.\n",
      "  _warn_prf(average, modifier, msg_start, len(result))\n"
     ]
    }
   ],
   "source": [
    "print(classification_report(\n",
    "    y_test,\n",
    "    y_pred,\n",
    "    labels=list(range(len(label_encoder.classes_))),\n",
    "    target_names=label_encoder.classes_\n",
    "))"
   ]
  },
  {
   "cell_type": "code",
   "execution_count": 12,
   "id": "dbe61488",
   "metadata": {
    "execution": {
     "iopub.execute_input": "2025-06-13T17:32:42.440637Z",
     "iopub.status.busy": "2025-06-13T17:32:42.440272Z",
     "iopub.status.idle": "2025-06-13T17:32:42.471608Z",
     "shell.execute_reply": "2025-06-13T17:32:42.470542Z"
    },
    "papermill": {
     "duration": 0.044226,
     "end_time": "2025-06-13T17:32:42.473240",
     "exception": false,
     "start_time": "2025-06-13T17:32:42.429014",
     "status": "completed"
    },
    "tags": []
   },
   "outputs": [
    {
     "data": {
      "text/plain": [
       "(2845, 29)"
      ]
     },
     "execution_count": 12,
     "metadata": {},
     "output_type": "execute_result"
    }
   ],
   "source": [
    "df_test = pd.read_csv(\"/kaggle/input/summer-analytics-mid-hackathon/hacktest.csv\")\n",
    "df_test.shape"
   ]
  },
  {
   "cell_type": "code",
   "execution_count": 13,
   "id": "dd72926f",
   "metadata": {
    "execution": {
     "iopub.execute_input": "2025-06-13T17:32:42.486583Z",
     "iopub.status.busy": "2025-06-13T17:32:42.486248Z",
     "iopub.status.idle": "2025-06-13T17:32:42.713252Z",
     "shell.execute_reply": "2025-06-13T17:32:42.712267Z"
    },
    "papermill": {
     "duration": 0.236325,
     "end_time": "2025-06-13T17:32:42.715104",
     "exception": false,
     "start_time": "2025-06-13T17:32:42.478779",
     "status": "completed"
    },
    "tags": []
   },
   "outputs": [
    {
     "name": "stderr",
     "output_type": "stream",
     "text": [
      "/tmp/ipykernel_13/2007542139.py:17: FutureWarning: Support for axis=1 in DataFrame.rolling is deprecated and will be removed in a future version. Use obj.T.rolling(...) instead\n",
      "  df_test[ndvi_cols] = df_test[ndvi_cols].rolling(window=3, axis=1, min_periods=1).mean()\n"
     ]
    }
   ],
   "source": [
    "\n",
    "\n",
    "# Step 1: Drop 'Unnamed: 0' if it exists\n",
    "if \"Unnamed: 0\" in df_test.columns:\n",
    "    df_test.drop(columns=[\"Unnamed: 0\"], inplace=True)\n",
    "\n",
    "# Step 2: Identify and sort NDVI columns\n",
    "ndvi_cols = sorted([col for col in df_test.columns if col.endswith(\"_N\")])\n",
    "non_ndvi_cols = ['ID']\n",
    "df_test = df_test[non_ndvi_cols + ndvi_cols]\n",
    "\n",
    "# Step 3: Interpolate missing NDVI values across each row\n",
    "df_test[ndvi_cols] = df_test[ndvi_cols].interpolate(axis=1, limit_direction='both')\n",
    "\n",
    "# Step 4: Fill remaining NaNs with column-wise mean\n",
    "df_test[ndvi_cols] = df_test[ndvi_cols].fillna(df_test[ndvi_cols].mode())\n",
    "\n",
    "# Step 5: Denoise using rolling mean (window = 3)\n",
    "df_test[ndvi_cols] = df_test[ndvi_cols].rolling(window=3, axis=1, min_periods=1).mean()\n",
    "\n",
    "# Step 6: Feature engineering – NDVI stats\n",
    "df_test[\"NDVI_mean\"] = df_test[ndvi_cols].mean(axis=1)\n",
    "df_test[\"NDVI_std\"] = df_test[ndvi_cols].std(axis=1)\n",
    "df_test[\"NDVI_min\"] = df_test[ndvi_cols].min(axis=1)\n",
    "df_test[\"NDVI_max\"] = df_test[ndvi_cols].max(axis=1)\n",
    "\n"
   ]
  },
  {
   "cell_type": "code",
   "execution_count": 14,
   "id": "175e5907",
   "metadata": {
    "execution": {
     "iopub.execute_input": "2025-06-13T17:32:42.728040Z",
     "iopub.status.busy": "2025-06-13T17:32:42.727743Z",
     "iopub.status.idle": "2025-06-13T17:32:42.742652Z",
     "shell.execute_reply": "2025-06-13T17:32:42.741358Z"
    },
    "papermill": {
     "duration": 0.023915,
     "end_time": "2025-06-13T17:32:42.744770",
     "exception": false,
     "start_time": "2025-06-13T17:32:42.720855",
     "status": "completed"
    },
    "tags": []
   },
   "outputs": [],
   "source": [
    "# Save the ID column\n",
    "ID = df_test['ID']\n",
    "\n",
    "# Drop the ID column before scaling\n",
    "X_testf = df_test.drop(columns=['ID'])\n",
    "\n",
    "# Scale using the same scaler that was fit on training data\n",
    "X_testf_scaled = scaler.transform(X_testf)\n",
    "\n",
    "# Predict using the trained model\n",
    "y_testf_scaled = model.predict(X_testf_scaled)\n",
    "\n",
    "# Create final output DataFrame\n",
    "result_df = pd.DataFrame({\n",
    "    'ID': ID,\n",
    "    'class': y_testf_scaled\n",
    "})\n",
    "\n",
    "\n"
   ]
  },
  {
   "cell_type": "code",
   "execution_count": 15,
   "id": "bed3edd7",
   "metadata": {
    "execution": {
     "iopub.execute_input": "2025-06-13T17:32:42.759390Z",
     "iopub.status.busy": "2025-06-13T17:32:42.759076Z",
     "iopub.status.idle": "2025-06-13T17:32:42.767639Z",
     "shell.execute_reply": "2025-06-13T17:32:42.766193Z"
    },
    "papermill": {
     "duration": 0.018398,
     "end_time": "2025-06-13T17:32:42.769668",
     "exception": false,
     "start_time": "2025-06-13T17:32:42.751270",
     "status": "completed"
    },
    "tags": []
   },
   "outputs": [
    {
     "data": {
      "text/plain": [
       "array(['farm', 'forest', 'forest', ..., 'water', 'water', 'water'],\n",
       "      dtype=object)"
      ]
     },
     "execution_count": 15,
     "metadata": {},
     "output_type": "execute_result"
    }
   ],
   "source": [
    "y_decoded = label_encoder.inverse_transform(y_testf_scaled)\n",
    "y_decoded"
   ]
  },
  {
   "cell_type": "code",
   "execution_count": 16,
   "id": "18bed973",
   "metadata": {
    "execution": {
     "iopub.execute_input": "2025-06-13T17:32:42.782588Z",
     "iopub.status.busy": "2025-06-13T17:32:42.782227Z",
     "iopub.status.idle": "2025-06-13T17:32:42.794169Z",
     "shell.execute_reply": "2025-06-13T17:32:42.793210Z"
    },
    "papermill": {
     "duration": 0.020218,
     "end_time": "2025-06-13T17:32:42.795804",
     "exception": false,
     "start_time": "2025-06-13T17:32:42.775586",
     "status": "completed"
    },
    "tags": []
   },
   "outputs": [
    {
     "data": {
      "text/html": [
       "<div>\n",
       "<style scoped>\n",
       "    .dataframe tbody tr th:only-of-type {\n",
       "        vertical-align: middle;\n",
       "    }\n",
       "\n",
       "    .dataframe tbody tr th {\n",
       "        vertical-align: top;\n",
       "    }\n",
       "\n",
       "    .dataframe thead th {\n",
       "        text-align: right;\n",
       "    }\n",
       "</style>\n",
       "<table border=\"1\" class=\"dataframe\">\n",
       "  <thead>\n",
       "    <tr style=\"text-align: right;\">\n",
       "      <th></th>\n",
       "      <th>ID</th>\n",
       "      <th>class</th>\n",
       "    </tr>\n",
       "  </thead>\n",
       "  <tbody>\n",
       "    <tr>\n",
       "      <th>0</th>\n",
       "      <td>1</td>\n",
       "      <td>farm</td>\n",
       "    </tr>\n",
       "    <tr>\n",
       "      <th>1</th>\n",
       "      <td>2</td>\n",
       "      <td>forest</td>\n",
       "    </tr>\n",
       "    <tr>\n",
       "      <th>2</th>\n",
       "      <td>3</td>\n",
       "      <td>forest</td>\n",
       "    </tr>\n",
       "    <tr>\n",
       "      <th>3</th>\n",
       "      <td>4</td>\n",
       "      <td>forest</td>\n",
       "    </tr>\n",
       "    <tr>\n",
       "      <th>4</th>\n",
       "      <td>5</td>\n",
       "      <td>forest</td>\n",
       "    </tr>\n",
       "    <tr>\n",
       "      <th>...</th>\n",
       "      <td>...</td>\n",
       "      <td>...</td>\n",
       "    </tr>\n",
       "    <tr>\n",
       "      <th>2840</th>\n",
       "      <td>2841</td>\n",
       "      <td>water</td>\n",
       "    </tr>\n",
       "    <tr>\n",
       "      <th>2841</th>\n",
       "      <td>2842</td>\n",
       "      <td>water</td>\n",
       "    </tr>\n",
       "    <tr>\n",
       "      <th>2842</th>\n",
       "      <td>2843</td>\n",
       "      <td>water</td>\n",
       "    </tr>\n",
       "    <tr>\n",
       "      <th>2843</th>\n",
       "      <td>2844</td>\n",
       "      <td>water</td>\n",
       "    </tr>\n",
       "    <tr>\n",
       "      <th>2844</th>\n",
       "      <td>2845</td>\n",
       "      <td>water</td>\n",
       "    </tr>\n",
       "  </tbody>\n",
       "</table>\n",
       "<p>2845 rows × 2 columns</p>\n",
       "</div>"
      ],
      "text/plain": [
       "        ID   class\n",
       "0        1    farm\n",
       "1        2  forest\n",
       "2        3  forest\n",
       "3        4  forest\n",
       "4        5  forest\n",
       "...    ...     ...\n",
       "2840  2841   water\n",
       "2841  2842   water\n",
       "2842  2843   water\n",
       "2843  2844   water\n",
       "2844  2845   water\n",
       "\n",
       "[2845 rows x 2 columns]"
      ]
     },
     "execution_count": 16,
     "metadata": {},
     "output_type": "execute_result"
    }
   ],
   "source": [
    "result = pd.DataFrame({\n",
    "    'ID': ID,\n",
    "    'class': y_decoded\n",
    "})\n",
    "result"
   ]
  },
  {
   "cell_type": "code",
   "execution_count": 17,
   "id": "e776d9d5",
   "metadata": {
    "execution": {
     "iopub.execute_input": "2025-06-13T17:32:42.811051Z",
     "iopub.status.busy": "2025-06-13T17:32:42.810672Z",
     "iopub.status.idle": "2025-06-13T17:32:42.825062Z",
     "shell.execute_reply": "2025-06-13T17:32:42.824072Z"
    },
    "papermill": {
     "duration": 0.023925,
     "end_time": "2025-06-13T17:32:42.826800",
     "exception": false,
     "start_time": "2025-06-13T17:32:42.802875",
     "status": "completed"
    },
    "tags": []
   },
   "outputs": [],
   "source": [
    "result.to_csv(\"submission.csv\", index=False)"
   ]
  }
 ],
 "metadata": {
  "kaggle": {
   "accelerator": "none",
   "dataSources": [
    {
     "databundleVersionId": 12585144,
     "sourceId": 104491,
     "sourceType": "competition"
    }
   ],
   "dockerImageVersionId": 31040,
   "isGpuEnabled": false,
   "isInternetEnabled": false,
   "language": "python",
   "sourceType": "notebook"
  },
  "kernelspec": {
   "display_name": "Python 3",
   "language": "python",
   "name": "python3"
  },
  "language_info": {
   "codemirror_mode": {
    "name": "ipython",
    "version": 3
   },
   "file_extension": ".py",
   "mimetype": "text/x-python",
   "name": "python",
   "nbconvert_exporter": "python",
   "pygments_lexer": "ipython3",
   "version": "3.11.11"
  },
  "papermill": {
   "default_parameters": {},
   "duration": 15.7188,
   "end_time": "2025-06-13T17:32:43.656574",
   "environment_variables": {},
   "exception": null,
   "input_path": "__notebook__.ipynb",
   "output_path": "__notebook__.ipynb",
   "parameters": {},
   "start_time": "2025-06-13T17:32:27.937774",
   "version": "2.6.0"
  }
 },
 "nbformat": 4,
 "nbformat_minor": 5
}
